{
 "cells": [
  {
   "cell_type": "markdown",
   "id": "small-tiger",
   "metadata": {},
   "source": [
    "# EDA\n",
    "\n",
    "## Preparing Data\n",
    "- load multiple json files into dataframes\n",
    "    - generate one dataframe with all the channels content\n",
    "\n",
    "## Assess and Clean Data\n",
    "- drop columns which doesn't make sense\n",
    "- drop rows which doesn't make sense\n",
    "- filter down for 1to1 convos\n"
   ]
  },
  {
   "cell_type": "code",
   "execution_count": 93,
   "id": "eight-parcel",
   "metadata": {},
   "outputs": [],
   "source": [
    "# import basic libraries\n",
    "import os, json\n",
    "import pandas as pd\n",
    "import numpy as np\n",
    "import glob\n",
    "pd.options.mode.chained_assignment = None \n",
    "import networkx as nx\n",
    "import matplotlib.pyplot as plt"
   ]
  },
  {
   "cell_type": "markdown",
   "id": "double-reggae",
   "metadata": {},
   "source": [
    "### Loading Multiple Json Files into DataFrames\n",
    "Generate one dataframe with all the channels in it"
   ]
  },
  {
   "cell_type": "code",
   "execution_count": 94,
   "id": "equipped-frontier",
   "metadata": {},
   "outputs": [],
   "source": [
    "main_folder_path = '../raw_data' \n",
    "\n",
    "def parse_all_json(main_folder_path):\n",
    "    df = pd.DataFrame()\n",
    "\n",
    "### Iterate through the group of folders\n",
    "    for folder in os.listdir(main_folder_path):\n",
    "        folder_path = os.path.join(main_folder_path, folder)\n",
    "        \n",
    "        if os.path.isdir(folder_path):\n",
    "## Iterate through each individual folder\n",
    "            for file in os.listdir(folder_path):\n",
    "                file = os.path.join(main_folder_path, folder, file)\n",
    "            \n",
    "            #add a channel name column and add which folder is the value coming from: general, labhelp, \n",
    "                if file.endswith('.json'):\n",
    "                    data = pd.read_json(file)\n",
    "                    data['channel_name'] = folder\n",
    "                    df = pd.concat([df, data])\n",
    "    return df\n",
    "\n",
    "df1 = parse_all_json('../raw_data/')"
   ]
  },
  {
   "cell_type": "code",
   "execution_count": 95,
   "id": "failing-colon",
   "metadata": {},
   "outputs": [],
   "source": [
    "# save to csv\n",
    "df1.to_csv(r'../raw_data/data_raw.csv', index = False)"
   ]
  },
  {
   "cell_type": "markdown",
   "id": "sublime-validation",
   "metadata": {},
   "source": [
    "### Assessment"
   ]
  },
  {
   "cell_type": "code",
   "execution_count": 96,
   "id": "nasty-inclusion",
   "metadata": {},
   "outputs": [
    {
     "output_type": "execute_result",
     "data": {
      "text/plain": [
       "(5185, 38)"
      ]
     },
     "metadata": {},
     "execution_count": 96
    }
   ],
   "source": [
    "df1.shape"
   ]
  },
  {
   "cell_type": "code",
   "execution_count": 97,
   "id": "registered-sussex",
   "metadata": {
    "scrolled": false
   },
   "outputs": [
    {
     "output_type": "execute_result",
     "data": {
      "text/plain": [
       "      type       subtype            ts         user  \\\n",
       "0  message  channel_join  1.616237e+09  U01S1CWGTU4   \n",
       "0  message           NaN  1.617897e+09  U01S7BM4N81   \n",
       "0  message           NaN  1.620900e+09  U01RXCQHMHT   \n",
       "0  message           NaN  1.620200e+09  U01S7KCL3DF   \n",
       "1  message           NaN  1.620211e+09  U01RSRE0N3D   \n",
       "\n",
       "                                                text channel_name  \\\n",
       "0              <@U01S1CWGTU4> has joined the channel        music   \n",
       "0      <https://www.youtube.com/watch?v=qW1eTP9CKSE>        music   \n",
       "0  A thematic name for a playlist\\n\\n<https://sou...        music   \n",
       "0  <@U01RXCQHMHT> here’s a bangin track about Nig...        music   \n",
       "1  For all of you LotR ravers\\n<https://www.youtu...        music   \n",
       "\n",
       "                          client_msg_id         team    user_team  \\\n",
       "0                                   NaN          NaN          NaN   \n",
       "0  98d2a1df-fcab-4a15-a96c-514cd4fa55fa  T01RBRV5F7H  T01RBRV5F7H   \n",
       "0  c097123a-a43a-47a7-8d6b-c4ed6574b2c6  T01RBRV5F7H  T01RBRV5F7H   \n",
       "0  a153f00e-8a2f-4c0f-9f4f-ebcf678f250e  T01RBRV5F7H  T01RBRV5F7H   \n",
       "1  41475476-99d9-41d5-beb7-727785d8cd49  T01RBRV5F7H  T01RBRV5F7H   \n",
       "\n",
       "   source_team  ... bot_id bot_profile inviter purpose topic  root  old_name  \\\n",
       "0          NaN  ...    NaN         NaN     NaN     NaN   NaN   NaN       NaN   \n",
       "0  T01RBRV5F7H  ...    NaN         NaN     NaN     NaN   NaN   NaN       NaN   \n",
       "0  T01RBRV5F7H  ...    NaN         NaN     NaN     NaN   NaN   NaN       NaN   \n",
       "0  T01RBRV5F7H  ...    NaN         NaN     NaN     NaN   NaN   NaN       NaN   \n",
       "1  T01RBRV5F7H  ...    NaN         NaN     NaN     NaN   NaN   NaN       NaN   \n",
       "\n",
       "   name  x_files hidden  \n",
       "0   NaN      NaN    NaN  \n",
       "0   NaN      NaN    NaN  \n",
       "0   NaN      NaN    NaN  \n",
       "0   NaN      NaN    NaN  \n",
       "1   NaN      NaN    NaN  \n",
       "\n",
       "[5 rows x 38 columns]"
      ],
      "text/html": "<div>\n<style scoped>\n    .dataframe tbody tr th:only-of-type {\n        vertical-align: middle;\n    }\n\n    .dataframe tbody tr th {\n        vertical-align: top;\n    }\n\n    .dataframe thead th {\n        text-align: right;\n    }\n</style>\n<table border=\"1\" class=\"dataframe\">\n  <thead>\n    <tr style=\"text-align: right;\">\n      <th></th>\n      <th>type</th>\n      <th>subtype</th>\n      <th>ts</th>\n      <th>user</th>\n      <th>text</th>\n      <th>channel_name</th>\n      <th>client_msg_id</th>\n      <th>team</th>\n      <th>user_team</th>\n      <th>source_team</th>\n      <th>...</th>\n      <th>bot_id</th>\n      <th>bot_profile</th>\n      <th>inviter</th>\n      <th>purpose</th>\n      <th>topic</th>\n      <th>root</th>\n      <th>old_name</th>\n      <th>name</th>\n      <th>x_files</th>\n      <th>hidden</th>\n    </tr>\n  </thead>\n  <tbody>\n    <tr>\n      <th>0</th>\n      <td>message</td>\n      <td>channel_join</td>\n      <td>1.616237e+09</td>\n      <td>U01S1CWGTU4</td>\n      <td>&lt;@U01S1CWGTU4&gt; has joined the channel</td>\n      <td>music</td>\n      <td>NaN</td>\n      <td>NaN</td>\n      <td>NaN</td>\n      <td>NaN</td>\n      <td>...</td>\n      <td>NaN</td>\n      <td>NaN</td>\n      <td>NaN</td>\n      <td>NaN</td>\n      <td>NaN</td>\n      <td>NaN</td>\n      <td>NaN</td>\n      <td>NaN</td>\n      <td>NaN</td>\n      <td>NaN</td>\n    </tr>\n    <tr>\n      <th>0</th>\n      <td>message</td>\n      <td>NaN</td>\n      <td>1.617897e+09</td>\n      <td>U01S7BM4N81</td>\n      <td>&lt;https://www.youtube.com/watch?v=qW1eTP9CKSE&gt;</td>\n      <td>music</td>\n      <td>98d2a1df-fcab-4a15-a96c-514cd4fa55fa</td>\n      <td>T01RBRV5F7H</td>\n      <td>T01RBRV5F7H</td>\n      <td>T01RBRV5F7H</td>\n      <td>...</td>\n      <td>NaN</td>\n      <td>NaN</td>\n      <td>NaN</td>\n      <td>NaN</td>\n      <td>NaN</td>\n      <td>NaN</td>\n      <td>NaN</td>\n      <td>NaN</td>\n      <td>NaN</td>\n      <td>NaN</td>\n    </tr>\n    <tr>\n      <th>0</th>\n      <td>message</td>\n      <td>NaN</td>\n      <td>1.620900e+09</td>\n      <td>U01RXCQHMHT</td>\n      <td>A thematic name for a playlist\\n\\n&lt;https://sou...</td>\n      <td>music</td>\n      <td>c097123a-a43a-47a7-8d6b-c4ed6574b2c6</td>\n      <td>T01RBRV5F7H</td>\n      <td>T01RBRV5F7H</td>\n      <td>T01RBRV5F7H</td>\n      <td>...</td>\n      <td>NaN</td>\n      <td>NaN</td>\n      <td>NaN</td>\n      <td>NaN</td>\n      <td>NaN</td>\n      <td>NaN</td>\n      <td>NaN</td>\n      <td>NaN</td>\n      <td>NaN</td>\n      <td>NaN</td>\n    </tr>\n    <tr>\n      <th>0</th>\n      <td>message</td>\n      <td>NaN</td>\n      <td>1.620200e+09</td>\n      <td>U01S7KCL3DF</td>\n      <td>&lt;@U01RXCQHMHT&gt; here’s a bangin track about Nig...</td>\n      <td>music</td>\n      <td>a153f00e-8a2f-4c0f-9f4f-ebcf678f250e</td>\n      <td>T01RBRV5F7H</td>\n      <td>T01RBRV5F7H</td>\n      <td>T01RBRV5F7H</td>\n      <td>...</td>\n      <td>NaN</td>\n      <td>NaN</td>\n      <td>NaN</td>\n      <td>NaN</td>\n      <td>NaN</td>\n      <td>NaN</td>\n      <td>NaN</td>\n      <td>NaN</td>\n      <td>NaN</td>\n      <td>NaN</td>\n    </tr>\n    <tr>\n      <th>1</th>\n      <td>message</td>\n      <td>NaN</td>\n      <td>1.620211e+09</td>\n      <td>U01RSRE0N3D</td>\n      <td>For all of you LotR ravers\\n&lt;https://www.youtu...</td>\n      <td>music</td>\n      <td>41475476-99d9-41d5-beb7-727785d8cd49</td>\n      <td>T01RBRV5F7H</td>\n      <td>T01RBRV5F7H</td>\n      <td>T01RBRV5F7H</td>\n      <td>...</td>\n      <td>NaN</td>\n      <td>NaN</td>\n      <td>NaN</td>\n      <td>NaN</td>\n      <td>NaN</td>\n      <td>NaN</td>\n      <td>NaN</td>\n      <td>NaN</td>\n      <td>NaN</td>\n      <td>NaN</td>\n    </tr>\n  </tbody>\n</table>\n<p>5 rows × 38 columns</p>\n</div>"
     },
     "metadata": {},
     "execution_count": 97
    }
   ],
   "source": [
    "df1.head()"
   ]
  },
  {
   "cell_type": "code",
   "execution_count": 98,
   "id": "thousand-friendship",
   "metadata": {},
   "outputs": [],
   "source": [
    "def real_name(x):\n",
    "    \"\"\"this function is applied to column user_profile to extract real_name\n",
    "    \"\"\"\n",
    "    if x != x:\n",
    "        return 'noname'\n",
    "    else:\n",
    "        return x['real_name']\n",
    "\n",
    "df1['real_name'] = df1['user_profile'].apply(real_name)\n",
    "\n",
    "# drop user_profile column\n",
    "df1.drop('user_profile', axis=1, inplace=True) "
   ]
  },
  {
   "cell_type": "code",
   "execution_count": 99,
   "id": "helpful-pendant",
   "metadata": {},
   "outputs": [],
   "source": [
    "def cleaning(df1):\n",
    "    \"\"\"this function is cleans the dataframe from noise in the data\n",
    "    \"\"\"\n",
    "    \n",
    "    # filter out for the rows which has subtype values\n",
    "    df1 = df1[(df1.subtype != 'channel_join') & \n",
    "                                (df1.subtype != 'channel_join') &\n",
    "                                (df1.subtype != 'channel_purpose') &\n",
    "                                (df1.subtype != 'thread_broadcast')]\n",
    "    # drop subtype column with the values we don't need anymore\n",
    "    df1.drop('subtype', axis=1, inplace=True) \n",
    "    \n",
    "    # droppig unneccessary columns\n",
    "    df1.drop(['type','client_msg_id', 'team', 'user_team', \n",
    "                'source_team','attachments', 'blocks', 'edited', 'reactions', \n",
    "                'is_locked', 'subscribed', 'last_read', 'parent_user_id',\n",
    "                'files', 'upload', 'display_as_bot', 'bot_id', 'bot_profile', 'inviter',\n",
    "                'purpose', 'topic', 'root', 'old_name', 'name', 'x_files', 'hidden'], axis=1, inplace=True)\n",
    "    \n",
    "    # reordering columns\n",
    "    df1 = df1[['ts', 'user', 'real_name','text', 'channel_name',\n",
    "               'thread_ts','reply_count', 'reply_users_count', \n",
    "               'latest_reply', 'reply_users','replies']]\n",
    "    \n",
    "    # filter out names that don't have a real name\n",
    "    df1 = df1[(df1.real_name != 'noname')]\n",
    "    \n",
    "    return df1"
   ]
  },
  {
   "cell_type": "code",
   "execution_count": 100,
   "id": "confused-marina",
   "metadata": {},
   "outputs": [],
   "source": [
    "df1 = cleaning(df1)\n",
    "df = df1.copy()\n",
    "df = df.dropna()"
   ]
  },
  {
   "cell_type": "markdown",
   "id": "genuine-thought",
   "metadata": {},
   "source": [
    "## Process the DF"
   ]
  },
  {
   "cell_type": "markdown",
   "id": "announced-december",
   "metadata": {},
   "source": [
    "### Separate direct conversations (where there is only 1 user who replied)"
   ]
  },
  {
   "cell_type": "code",
   "execution_count": 101,
   "id": "sharp-reaction",
   "metadata": {},
   "outputs": [
    {
     "output_type": "execute_result",
     "data": {
      "text/plain": [
       "(426, 12)"
      ]
     },
     "metadata": {},
     "execution_count": 101
    }
   ],
   "source": [
    "# see count of users replied to the messages in 'reply_len' column\n",
    "df['reply_len'] = df['reply_users'].apply(lambda a : len(a))\n",
    "df.shape"
   ]
  },
  {
   "cell_type": "markdown",
   "id": "attempted-comfort",
   "metadata": {},
   "source": [
    "There are 426 occasions when there is a thread."
   ]
  },
  {
   "cell_type": "code",
   "execution_count": 102,
   "id": "hidden-czech",
   "metadata": {},
   "outputs": [],
   "source": [
    "# filter down where there is only 1 reply\n",
    "df = df.loc[df['reply_len'] == 1][['text','ts', 'user', 'real_name','reply_users']].reset_index(drop=True)\n",
    "\n",
    "# strip down brackets\n",
    "df['reply_users'] = df['reply_users'].str[0]\n",
    "\n",
    "# rename columns\n",
    "df.rename(columns={'reply_users' : 'to'}, inplace=True)\n",
    "\n",
    "# test\n",
    "df.head()\n",
    "df.to_csv('one_replies.csv')"
   ]
  },
  {
   "cell_type": "code",
   "execution_count": 103,
   "id": "minus-question",
   "metadata": {},
   "outputs": [
    {
     "output_type": "execute_result",
     "data": {
      "text/plain": [
       "(86, 5)"
      ]
     },
     "metadata": {},
     "execution_count": 103
    }
   ],
   "source": [
    "df.shape"
   ]
  },
  {
   "cell_type": "markdown",
   "id": "based-holocaust",
   "metadata": {},
   "source": [
    "There are 86 occasions when there is only 1 user (= one to one) having a conversation with another one."
   ]
  },
  {
   "source": [
    "## Out of scope below: \n",
    "- to separate messages by questions and answers"
   ],
   "cell_type": "markdown",
   "metadata": {}
  },
  {
   "cell_type": "markdown",
   "id": "floppy-amino",
   "metadata": {},
   "source": [
    "### Define function to filter questions"
   ]
  },
  {
   "cell_type": "code",
   "execution_count": 104,
   "id": "loaded-evaluation",
   "metadata": {},
   "outputs": [
    {
     "output_type": "execute_result",
     "data": {
      "text/plain": [
       "False    58\n",
       "True     28\n",
       "Name: question, dtype: int64"
      ]
     },
     "metadata": {},
     "execution_count": 104
    }
   ],
   "source": [
    "def is_question(txt):\n",
    "    words = {'how', 'what', 'where', '?', 'when', 'anyone', 'which', 'can', 'do you', 'does'}\n",
    "    txt = set(txt.lower().split())\n",
    "    return len(words.intersection(txt)) >= 1\n",
    "\n",
    "df['question'] = df['text'].apply(is_question)\n",
    "\n",
    "df['question'].value_counts()"
   ]
  },
  {
   "source": [
    "There are 28 questions from direct conversations."
   ],
   "cell_type": "markdown",
   "metadata": {}
  },
  {
   "cell_type": "markdown",
   "id": "residential-switzerland",
   "metadata": {},
   "source": [
    "### Define functions to filter answers\n"
   ]
  },
  {
   "cell_type": "code",
   "execution_count": 105,
   "id": "medieval-company",
   "metadata": {},
   "outputs": [
    {
     "output_type": "execute_result",
     "data": {
      "text/plain": [
       "False    83\n",
       "True      3\n",
       "Name: answer, dtype: int64"
      ]
     },
     "metadata": {},
     "execution_count": 105
    }
   ],
   "source": [
    "def is_answer(txt):\n",
    "    gratitude_words = {'thanks' ,'thx' ,' thanx', 'thank you', 'thnx','thanks' ,'thx' , 'brilliant','thanks a lot', \n",
    "        'thank you very much', 'great' , 'awesome','cool'}\n",
    "    txt = set(txt.lower().split())\n",
    "    return len(gratitude_words.intersection(txt)) >= 1\n",
    "\n",
    "df['answer'] = df['text'].apply(is_answer)\n",
    "\n",
    "df['answer'].value_counts()"
   ]
  },
  {
   "source": [
    "There are 3 answers from direct conversations."
   ],
   "cell_type": "markdown",
   "metadata": {}
  },
  {
   "cell_type": "code",
   "execution_count": null,
   "metadata": {},
   "outputs": [],
   "source": []
  }
 ],
 "metadata": {
  "kernelspec": {
   "display_name": "Python 3",
   "language": "python",
   "name": "python3"
  },
  "language_info": {
   "codemirror_mode": {
    "name": "ipython",
    "version": 3
   },
   "file_extension": ".py",
   "mimetype": "text/x-python",
   "name": "python",
   "nbconvert_exporter": "python",
   "pygments_lexer": "ipython3",
   "version": "3.8.5-final"
  }
 },
 "nbformat": 4,
 "nbformat_minor": 5
}